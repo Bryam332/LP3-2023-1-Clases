{
 "cells": [
  {
   "cell_type": "markdown",
   "id": "fdebedbe",
   "metadata": {},
   "source": [
    "# Semana03"
   ]
  },
  {
   "cell_type": "markdown",
   "id": "8731133e",
   "metadata": {},
   "source": [
    "Bryam Guillen Ayala"
   ]
  },
  {
   "cell_type": "raw",
   "id": "3ece1be0",
   "metadata": {},
   "source": [
    "Temas:\n",
    "    1. Números\n",
    "    2. Variables\n",
    "    3. Manejo de Cadena\n",
    "    4. Ingreso de datos por teclado\n",
    "    5. Operadores"
   ]
  },
  {
   "cell_type": "markdown",
   "id": "25feb01f",
   "metadata": {},
   "source": [
    "1.Numeros"
   ]
  },
  {
   "cell_type": "code",
   "execution_count": 3,
   "id": "1ce5bb39",
   "metadata": {},
   "outputs": [
    {
     "data": {
      "text/plain": [
       "13"
      ]
     },
     "execution_count": 3,
     "metadata": {},
     "output_type": "execute_result"
    }
   ],
   "source": [
    "8+5"
   ]
  }
 ],
 "metadata": {
  "kernelspec": {
   "display_name": "Python 3 (ipykernel)",
   "language": "python",
   "name": "python3"
  },
  "language_info": {
   "codemirror_mode": {
    "name": "ipython",
    "version": 3
   },
   "file_extension": ".py",
   "mimetype": "text/x-python",
   "name": "python",
   "nbconvert_exporter": "python",
   "pygments_lexer": "ipython3",
   "version": "3.9.12"
  }
 },
 "nbformat": 4,
 "nbformat_minor": 5
}
