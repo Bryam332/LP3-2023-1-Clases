{
 "cells": [
  {
   "cell_type": "markdown",
   "id": "4c73ec92",
   "metadata": {},
   "source": [
    "# Semana03"
   ]
  },
  {
   "cell_type": "markdown",
   "id": "34e69827",
   "metadata": {},
   "source": [
    "Bryam Guillen Ayala"
   ]
  },
  {
   "cell_type": "raw",
   "id": "ca1082ec",
   "metadata": {},
   "source": [
    "Temas:\n",
    "    1. Números\n",
    "    2. Variables\n",
    "    3. Manejo de Cadena\n",
    "    4. Ingreso de datos por teclado\n",
    "    5. Operadores"
   ]
  },
  {
   "cell_type": "markdown",
   "id": "ca43a8d2",
   "metadata": {},
   "source": [
    "2. variables"
   ]
  },
  {
   "cell_type": "code",
   "execution_count": 1,
   "id": "ded9aba5",
   "metadata": {},
   "outputs": [],
   "source": [
    "#Siempre debe iniciar con uan letra o in guion abajo. (Nunca con un numero u otro s+imbolo)"
   ]
  },
  {
   "cell_type": "code",
   "execution_count": 2,
   "id": "aac4cf12",
   "metadata": {},
   "outputs": [],
   "source": [
    "edad=19"
   ]
  },
  {
   "cell_type": "code",
   "execution_count": 3,
   "id": "9387f2e1",
   "metadata": {},
   "outputs": [
    {
     "data": {
      "text/plain": [
       "19"
      ]
     },
     "execution_count": 3,
     "metadata": {},
     "output_type": "execute_result"
    }
   ],
   "source": [
    "edad"
   ]
  },
  {
   "cell_type": "code",
   "execution_count": 4,
   "id": "bfae1c3f",
   "metadata": {},
   "outputs": [],
   "source": [
    "nombre=\"Bryam\""
   ]
  },
  {
   "cell_type": "code",
   "execution_count": 5,
   "id": "01b7fbbd",
   "metadata": {},
   "outputs": [
    {
     "data": {
      "text/plain": [
       "'Bryam'"
      ]
     },
     "execution_count": 5,
     "metadata": {},
     "output_type": "execute_result"
    }
   ],
   "source": [
    "nombre"
   ]
  },
  {
   "cell_type": "code",
   "execution_count": 6,
   "id": "32ba1618",
   "metadata": {},
   "outputs": [],
   "source": [
    "apellido=\"Guillen Ayala\""
   ]
  },
  {
   "cell_type": "code",
   "execution_count": 7,
   "id": "c1c2aece",
   "metadata": {},
   "outputs": [
    {
     "data": {
      "text/plain": [
       "'Guillen Ayala'"
      ]
     },
     "execution_count": 7,
     "metadata": {},
     "output_type": "execute_result"
    }
   ],
   "source": [
    "apellido"
   ]
  },
  {
   "cell_type": "code",
   "execution_count": 8,
   "id": "67fd58b2",
   "metadata": {},
   "outputs": [],
   "source": [
    "nombrecompleto= nombre + apellido"
   ]
  },
  {
   "cell_type": "code",
   "execution_count": 9,
   "id": "7314053b",
   "metadata": {},
   "outputs": [
    {
     "data": {
      "text/plain": [
       "'BryamGuillen Ayala'"
      ]
     },
     "execution_count": 9,
     "metadata": {},
     "output_type": "execute_result"
    }
   ],
   "source": [
    "nombrecompleto"
   ]
  },
  {
   "cell_type": "code",
   "execution_count": 10,
   "id": "ae7dbdd0",
   "metadata": {},
   "outputs": [
    {
     "data": {
      "text/plain": [
       "int"
      ]
     },
     "execution_count": 10,
     "metadata": {},
     "output_type": "execute_result"
    }
   ],
   "source": [
    "numero = 50\n",
    "type(numero)"
   ]
  },
  {
   "cell_type": "code",
   "execution_count": 11,
   "id": "15003d22",
   "metadata": {},
   "outputs": [
    {
     "data": {
      "text/plain": [
       "str"
      ]
     },
     "execution_count": 11,
     "metadata": {},
     "output_type": "execute_result"
    }
   ],
   "source": [
    "type(nombrecompleto)"
   ]
  },
  {
   "cell_type": "code",
   "execution_count": 12,
   "id": "3e669109",
   "metadata": {},
   "outputs": [],
   "source": [
    "talla=1.67"
   ]
  },
  {
   "cell_type": "code",
   "execution_count": 13,
   "id": "ad391836",
   "metadata": {},
   "outputs": [
    {
     "data": {
      "text/plain": [
       "float"
      ]
     },
     "execution_count": 13,
     "metadata": {},
     "output_type": "execute_result"
    }
   ],
   "source": [
    "type(talla)"
   ]
  },
  {
   "cell_type": "code",
   "execution_count": 14,
   "id": "53d500ed",
   "metadata": {},
   "outputs": [],
   "source": [
    "#Para convertir un numero en cadena utilizamos str()"
   ]
  },
  {
   "cell_type": "code",
   "execution_count": 15,
   "id": "e29085e1",
   "metadata": {},
   "outputs": [],
   "source": [
    "numero = 100\n",
    "cadena = str(numero)"
   ]
  },
  {
   "cell_type": "code",
   "execution_count": 16,
   "id": "4945c43e",
   "metadata": {},
   "outputs": [
    {
     "data": {
      "text/plain": [
       "int"
      ]
     },
     "execution_count": 16,
     "metadata": {},
     "output_type": "execute_result"
    }
   ],
   "source": [
    "type(numero)"
   ]
  },
  {
   "cell_type": "code",
   "execution_count": 17,
   "id": "e6fe0256",
   "metadata": {},
   "outputs": [
    {
     "data": {
      "text/plain": [
       "'100'"
      ]
     },
     "execution_count": 17,
     "metadata": {},
     "output_type": "execute_result"
    }
   ],
   "source": [
    "cadena"
   ]
  },
  {
   "cell_type": "code",
   "execution_count": 18,
   "id": "9356934e",
   "metadata": {},
   "outputs": [
    {
     "data": {
      "text/plain": [
       "str"
      ]
     },
     "execution_count": 18,
     "metadata": {},
     "output_type": "execute_result"
    }
   ],
   "source": [
    "type(cadena)"
   ]
  },
  {
   "cell_type": "code",
   "execution_count": 19,
   "id": "10e9eb29",
   "metadata": {},
   "outputs": [],
   "source": [
    "cadena2= \"50\"\n",
    "numero2=int(cadena2)"
   ]
  },
  {
   "cell_type": "code",
   "execution_count": 20,
   "id": "289bd3c5",
   "metadata": {},
   "outputs": [
    {
     "data": {
      "text/plain": [
       "50"
      ]
     },
     "execution_count": 20,
     "metadata": {},
     "output_type": "execute_result"
    }
   ],
   "source": [
    "numero2"
   ]
  },
  {
   "cell_type": "code",
   "execution_count": 21,
   "id": "05e95452",
   "metadata": {},
   "outputs": [
    {
     "data": {
      "text/plain": [
       "int"
      ]
     },
     "execution_count": 21,
     "metadata": {},
     "output_type": "execute_result"
    }
   ],
   "source": [
    "type(numero2)"
   ]
  },
  {
   "cell_type": "code",
   "execution_count": 22,
   "id": "b7a4373c",
   "metadata": {},
   "outputs": [
    {
     "data": {
      "text/plain": [
       "'50'"
      ]
     },
     "execution_count": 22,
     "metadata": {},
     "output_type": "execute_result"
    }
   ],
   "source": [
    "cadena2=\"50\"\n",
    "numero2=float(cadena2)\n",
    "cadena2"
   ]
  },
  {
   "cell_type": "code",
   "execution_count": 23,
   "id": "82752b31",
   "metadata": {},
   "outputs": [
    {
     "data": {
      "text/plain": [
       "float"
      ]
     },
     "execution_count": 23,
     "metadata": {},
     "output_type": "execute_result"
    }
   ],
   "source": [
    "type(numero2)"
   ]
  }
 ],
 "metadata": {
  "kernelspec": {
   "display_name": "Python 3 (ipykernel)",
   "language": "python",
   "name": "python3"
  },
  "language_info": {
   "codemirror_mode": {
    "name": "ipython",
    "version": 3
   },
   "file_extension": ".py",
   "mimetype": "text/x-python",
   "name": "python",
   "nbconvert_exporter": "python",
   "pygments_lexer": "ipython3",
   "version": "3.9.12"
  }
 },
 "nbformat": 4,
 "nbformat_minor": 5
}
